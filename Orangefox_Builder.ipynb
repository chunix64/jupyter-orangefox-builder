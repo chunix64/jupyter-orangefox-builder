{
  "nbformat": 4,
  "nbformat_minor": 0,
  "metadata": {
    "colab": {
      "provenance": []
    },
    "kernelspec": {
      "name": "python3",
      "display_name": "Python 3"
    },
    "language_info": {
      "name": "python"
    }
  },
  "cells": [
    {
      "cell_type": "code",
      "execution_count": null,
      "metadata": {
        "cellView": "form",
        "id": "l5jO45IaAUwq"
      },
      "outputs": [],
      "source": [
        "# @title #🛠️ 0. Prepare the environment\n",
        "\n",
        "# Fake github identity for sync and clone\n",
        "GITHUB_USERNAME = 'teto123'\n",
        "GITHUB_EMAIL = 'teto@teto.teto'\n",
        "\n",
        "# --- Setup python environtment ---\n",
        "\n",
        "# Helper to print info\n",
        "def info(msg):\n",
        "    print(f\"ℹ️  {msg}\")\n",
        "\n",
        "def success(msg):\n",
        "    print(f\"✅ {msg}\")\n",
        "\n",
        "def error(msg):\n",
        "    print(f\"❌ {msg}\")\n",
        "\n",
        "def get_device_tree_dir(content):\n",
        "    match = re.search(r'LOCAL_PATH\\s*:=\\s*([^\\s#]+)', content)\n",
        "    return match.group(1).strip()\n",
        "    if not match:\n",
        "      raise Exception(\"LOCAL_PATH not found in device.mk\")\n",
        "\n",
        "def get_lunch_names(content):\n",
        "    lunch_names = re.findall(r'\\b(\\w+(?:_\\w+)*-(?:\\w+(?:-\\w+)*))\\b', content)\n",
        "    return lunch_names\n",
        "\n",
        "# --- Install repo ---\n",
        "!sudo mkdir -p /usr/local/bin\n",
        "!sudo curl -o /usr/local/bin/repo https://storage.googleapis.com/git-repo-downloads/repo\n",
        "!sudo chmod a+x /usr/local/bin/repo\n",
        "\n",
        "# Verify\n",
        "!repo --version\n",
        "\n",
        "# --- Setup Orangefox ---\n",
        "%cd ~\n",
        "!sudo apt install git aria2 -y\n",
        "!git clone https://gitlab.com/OrangeFox/misc/scripts\n",
        "!cd scripts\n",
        "!sudo bash setup/android_build_env.sh\n",
        "!sudo bash setup/install_android_sdk.sh\n",
        "\n",
        "# Set Git identity\n",
        "!git config --global user.name {GITHUB_USERNAME}\n",
        "!git config --global user.email {GITHUB_EMAIL}\n",
        "\n",
        "success(\"Environment setup completed\")"
      ]
    },
    {
      "cell_type": "markdown",
      "source": [
        "-------------"
      ],
      "metadata": {
        "id": "9MYvYg9s0Syu"
      }
    },
    {
      "cell_type": "code",
      "source": [
        "# @title #🔄 1. Sync OrangeFox sources and minimal manifest\n",
        "# @markdown > ⚠️ Android 14.1 needs more space than Colab has. It may fail.\n",
        "# @markdown\n",
        "# @markdown > 📝 You can build most Android 14 using 12.1 source. Just set SDK version to 31 or older in device.mk\n",
        "import os\n",
        "HOME = os.path.expanduser(\"~\")\n",
        "\n",
        "ORANGE_FOX_VERSION = '12.1' #@param [12.1, 14.1]\n",
        "ORANGE_FOX_FOLDER = 'OrangeFox'\n",
        "ORANGE_FOX_DIR = f\"{HOME}/{ORANGE_FOX_FOLDER}\"\n",
        "!mkdir ~/OrangeFox_sync\n",
        "%cd ~/OrangeFox_sync\n",
        "!git clone https://gitlab.com/OrangeFox/sync.git # (or, using ssh, \"git clone git@gitlab.com:OrangeFox/sync.git\")\n",
        "%cd ~/OrangeFox_sync/sync/\n",
        "!yes | ./orangefox_sync.sh --branch {ORANGE_FOX_VERSION} --path {ORANGE_FOX_DIR}\n",
        "%cd {ORANGE_FOX_DIR}\n",
        "success(f\"Sync done: {ORANGE_FOX_DIR}\")"
      ],
      "metadata": {
        "colab": {
          "base_uri": "https://localhost:8080/"
        },
        "cellView": "form",
        "id": "8qBH2qanA_js",
        "outputId": "52fd7807-214c-4283-9c4d-63889c59dad7"
      },
      "execution_count": null,
      "outputs": [
        {
          "output_type": "stream",
          "name": "stdout",
          "text": []
        }
      ]
    },
    {
      "cell_type": "markdown",
      "source": [
        "------------"
      ],
      "metadata": {
        "id": "EoamQGKF0vs_"
      }
    },
    {
      "cell_type": "code",
      "source": [
        "# @title 🌲 2. Add Device Tree to Source\n",
        "\n",
        "# @markdown ## 🗂️ GitHub Device Tree URL\n",
        "# @markdown URL of the device tree repository or file on GitHub.\n",
        "GIT_DEVICE_TREE_URL = \"https://github.com/chunix64/android_device_tecno_TECNO-CK6n/\"  # @param {type: \"string\"}\n",
        "\n",
        "#@markdown\n",
        "\n",
        "# @markdown ## 🌿 GitHub Branch\n",
        "# @markdown Branch to use when cloning the device tree.\n",
        "GIT_DEVICE_TREE_BRANCH = \"main\"  # @param {type: \"string\"}\n",
        "\n",
        "#@markdown\n",
        "\n",
        "# @markdown ## 🧹 Delete Old Device Tree\n",
        "# @markdown Replace device tree with the latest version.\n",
        "DELETE_OLD_DEVICE_TREE = True  # @param {type: \"boolean\"}\n",
        "\n",
        "#@markdown\n",
        "\n",
        "%cd {ORANGE_FOX_DIR}\n",
        "\n",
        "from urllib.parse import urlparse\n",
        "import re\n",
        "import requests\n",
        "import os\n",
        "import subprocess\n",
        "import sys\n",
        "\n",
        "try:\n",
        "    # Parse GitHub URL\n",
        "    url_parts = urlparse(GIT_DEVICE_TREE_URL).path.strip(\"/\").split(\"/\")\n",
        "    if len(url_parts) < 2:\n",
        "        raise ValueError(\"Invalid GitHub URL\")\n",
        "\n",
        "    github_username, github_repo = url_parts[:2]\n",
        "\n",
        "    # Raw URLs\n",
        "    device_tree_url = f\"https://github.com/{github_username}/{github_repo}\" # Fix user link\n",
        "    device_mk_url = f\"https://raw.githubusercontent.com/{github_username}/{github_repo}/{GIT_DEVICE_TREE_BRANCH}/device.mk\"\n",
        "    android_products_mk_url = f\"https://raw.githubusercontent.com/{github_username}/{github_repo}/{GIT_DEVICE_TREE_BRANCH}/AndroidProducts.mk\"\n",
        "\n",
        "    # Fetch device.mk\n",
        "    resp = requests.get(device_mk_url, timeout=10)\n",
        "    if resp.status_code != 200:\n",
        "        raise FileNotFoundError(\"device.mk not found. The GitHub repo is not a valid device tree.\")\n",
        "\n",
        "    device_tree_dir = get_device_tree_dir(resp.text)\n",
        "    success(f\"Device tree path: {device_tree_dir}\")\n",
        "\n",
        "except Exception as e:\n",
        "    error(e)\n",
        "    sys.exit(1)\n",
        "\n",
        "# Clone device tree\n",
        "clone_target_dir = f\"{ORANGE_FOX_DIR}/{device_tree_dir}\"\n",
        "if os.path.exists(clone_target_dir) and DELETE_OLD_DEVICE_TREE:\n",
        "    subprocess.run(f\"rm -rf {clone_target_dir}\", shell=True, check=False)\n",
        "os.makedirs(clone_target_dir, exist_ok=True)\n",
        "\n",
        "info(f\"Cloning device tree...\")\n",
        "subprocess.run(\n",
        "    f\"git clone {device_tree_url} -b {GIT_DEVICE_TREE_BRANCH} {clone_target_dir}\",\n",
        "    shell=True,\n",
        "    check=True\n",
        ")\n",
        "success(\"Device tree cloned!\")\n",
        "\n",
        "# Fetch AndroidProducts.mk\n",
        "try:\n",
        "    info(\"Fetching lunch names...\")\n",
        "    resp = requests.get(android_products_mk_url, timeout=10)\n",
        "    if resp.status_code != 200:\n",
        "        raise FileNotFoundError(\"AndroidProducts.mk not found. The GitHub repo is not a valid device tree.\")\n",
        "\n",
        "    lunch_names = get_lunch_names(resp.text)\n",
        "\n",
        "    if lunch_names:\n",
        "        success(\"Lunch names found:\")\n",
        "        print(\" • \" + \"\\n • \".join(lunch_names))\n",
        "    else:\n",
        "        info(\"No lunch names found.\")\n",
        "\n",
        "except Exception as e:\n",
        "    error(e)\n"
      ],
      "metadata": {
        "cellView": "form",
        "id": "mga-ZA8pFgsB"
      },
      "execution_count": null,
      "outputs": []
    },
    {
      "cell_type": "markdown",
      "source": [
        "--------------------"
      ],
      "metadata": {
        "id": "XLPIVgv40ybk"
      }
    },
    {
      "cell_type": "code",
      "source": [
        "# @title 🤔 3. Check device trees avaible\n",
        "%cd {ORANGE_FOX_DIR}\n",
        "import os\n",
        "devices_dir = os.path.join(ORANGE_FOX_DIR, \"device\")\n",
        "\n",
        "def build_available_devices_table():\n",
        "    table = {}\n",
        "    for manufacturer in os.listdir(devices_dir):\n",
        "        manufacturer_dir = os.path.join(devices_dir, manufacturer)\n",
        "        if not os.path.isdir(manufacturer_dir):\n",
        "            continue\n",
        "        table[manufacturer] = {}\n",
        "        for device in os.listdir(manufacturer_dir):\n",
        "            device_dir = os.path.join(manufacturer_dir, device)\n",
        "            if not os.path.isdir(device_dir):\n",
        "                continue\n",
        "            android_products_path = os.path.join(device_dir, \"AndroidProducts.mk\")\n",
        "            if os.path.exists(android_products_path):\n",
        "                content = open(android_products_path).read()\n",
        "                device_lunch_names = get_lunch_names(content)\n",
        "                # Filter only the lunch names you want\n",
        "                device_lunch_names = [l for l in device_lunch_names if l in lunch_names]\n",
        "                if device_lunch_names:\n",
        "                    table[manufacturer][device] = device_lunch_names\n",
        "\n",
        "        # Remove manufacturer if empty\n",
        "        if not table[manufacturer]:\n",
        "            del table[manufacturer]\n",
        "\n",
        "    return table\n",
        "\n",
        "devices_table = build_available_devices_table()\n",
        "\n",
        "\n",
        "# Print table\n",
        "from tabulate import tabulate\n",
        "\n",
        "table_rows = []\n",
        "for manufacturer, devices in devices_table.items():\n",
        "    for device, lunch_names_list in devices.items():\n",
        "        table_rows.append([manufacturer, device, \"\\n\".join(lunch_names_list)])\n",
        "\n",
        "print(tabulate(table_rows, headers=[\"Manufacturer\", \"Device\", \"Lunch Names\"], tablefmt=\"fancy_grid\"))\n"
      ],
      "metadata": {
        "cellView": "form",
        "id": "OLu7E9oYL4UP"
      },
      "execution_count": null,
      "outputs": []
    },
    {
      "cell_type": "code",
      "source": [
        "# @title 🏗️ 4. Build OrangeFox\n",
        "# @markdown ## 💿 Recovery Partition\n",
        "# @markdown Choose the partition where the recovery ramdisk will be stored.\n",
        "RECOVERY_IMAGE = \"vendorbootimage\" #@param [\"vendorbootimage\", \"bootimage\", \"recoveryimage\"]\n",
        "\n",
        "#@markdown\n",
        "\n",
        "# @markdown ## 🍽️ Device Lunch Name\n",
        "# @markdown Use the device lunch name you found in the previous cell.\n",
        "DEVICE_LUNCH_NAME = \"twrp_CK6n-eng\" #@param {type:\"string\"}\n",
        "\n",
        "try:\n",
        "    DEVICE_NAME = DEVICE_LUNCH_NAME.split('_')[1].split('-')[0]\n",
        "except IndexError:\n",
        "    DEVICE_NAME = \"\"\n",
        "\n",
        "#@markdown\n",
        "\n",
        "# Set linux environment variables\n",
        "import os\n",
        "os.environ[\"ALLOW_MISSING_DEPENDENCIES\"] = \"true\"\n",
        "os.environ[\"FOX_BUILD_DEVICE\"] = DEVICE_NAME\n",
        "os.environ[\"LC_ALL\"] = \"C\"\n",
        "\n",
        "# Build command\n",
        "build_cmd = f\"\"\"\n",
        "source {ORANGE_FOX_DIR}/build/envsetup.sh\n",
        "lunch {DEVICE_LUNCH_NAME}\n",
        "mka adbd {RECOVERY_IMAGE}\n",
        "\"\"\"\n",
        "\n",
        "# Run in shell\n",
        "!bash -c \"{build_cmd}\""
      ],
      "metadata": {
        "cellView": "form",
        "id": "CEtBup4iuOso"
      },
      "execution_count": null,
      "outputs": []
    },
    {
      "cell_type": "markdown",
      "source": [
        "--------"
      ],
      "metadata": {
        "id": "2AdyipoS01Vy"
      }
    }
  ]
}